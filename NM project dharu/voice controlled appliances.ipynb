{
 "cells": [
  {
   "cell_type": "code",
   "execution_count": 5,
   "id": "943ac11b-8625-48e4-bea7-09adffc7b989",
   "metadata": {},
   "outputs": [
    {
     "name": "stdout",
     "output_type": "stream",
     "text": [
      "Requirement already satisfied: speechrecognition in c:\\users\\admin\\appdata\\local\\programs\\python\\python310\\lib\\site-packages (3.14.2)\n",
      "Requirement already satisfied: typing-extensions in c:\\users\\admin\\appdata\\local\\programs\\python\\python310\\lib\\site-packages (from speechrecognition) (4.13.2)\n",
      "Note: you may need to restart the kernel to use updated packages.\n"
     ]
    }
   ],
   "source": [
    "pip install speechrecognition"
   ]
  },
  {
   "cell_type": "code",
   "execution_count": 6,
   "id": "49e6ba43-355e-4aa3-a0b4-6788a70b9f50",
   "metadata": {},
   "outputs": [
    {
     "name": "stdout",
     "output_type": "stream",
     "text": [
      "Requirement already satisfied: pyaudio in c:\\users\\admin\\appdata\\local\\programs\\python\\python310\\lib\\site-packages (0.2.14)\n",
      "Note: you may need to restart the kernel to use updated packages.\n"
     ]
    }
   ],
   "source": [
    "pip install pyaudio"
   ]
  },
  {
   "cell_type": "code",
   "execution_count": 7,
   "id": "b1be0e14-a2c4-4768-9f19-d254323cfd98",
   "metadata": {},
   "outputs": [
    {
     "name": "stdout",
     "output_type": "stream",
     "text": [
      "Requirement already satisfied: pyttsx3 in c:\\users\\admin\\appdata\\local\\programs\\python\\python310\\lib\\site-packages (2.98)Note: you may need to restart the kernel to use updated packages.\n",
      "\n",
      "Requirement already satisfied: comtypes in c:\\users\\admin\\appdata\\local\\programs\\python\\python310\\lib\\site-packages (from pyttsx3) (1.4.10)\n",
      "Requirement already satisfied: pypiwin32 in c:\\users\\admin\\appdata\\local\\programs\\python\\python310\\lib\\site-packages (from pyttsx3) (223)\n",
      "Requirement already satisfied: pywin32 in c:\\users\\admin\\appdata\\local\\programs\\python\\python310\\lib\\site-packages (from pyttsx3) (310)\n"
     ]
    }
   ],
   "source": [
    "pip install pyttsx3"
   ]
  },
  {
   "cell_type": "code",
   "execution_count": 4,
   "id": "da86716a-133b-4935-9c8f-ef2a93a60837",
   "metadata": {},
   "outputs": [
    {
     "name": "stdout",
     "output_type": "stream",
     "text": [
      "Requirement already satisfied: pip in c:\\users\\admin\\appdata\\local\\programs\\python\\python310\\lib\\site-packages (22.3.1)Note: you may need to restart the kernel to use updated packages.\n",
      "\n",
      "Collecting pip\n",
      "  Downloading pip-25.1.1-py3-none-any.whl (1.8 MB)\n",
      "     ---------------------------------------- 1.8/1.8 MB 1.2 MB/s eta 0:00:00\n",
      "Installing collected packages: pip\n",
      "  Attempting uninstall: pip\n",
      "    Found existing installation: pip 22.3.1\n",
      "    Uninstalling pip-22.3.1:\n",
      "      Successfully uninstalled pip-22.3.1\n",
      "Successfully installed pip-25.1.1\n"
     ]
    }
   ],
   "source": [
    "pip install --upgrade pip"
   ]
  },
  {
   "cell_type": "code",
   "execution_count": 8,
   "id": "d0d5bc5a-f4aa-428e-a46c-46117064b063",
   "metadata": {},
   "outputs": [
    {
     "name": "stdout",
     "output_type": "stream",
     "text": [
      "Assistant: Voice control simulation started.\n",
      "\n",
      "Listening for command...\n",
      "Assistant: Network error.\n",
      "\n",
      "Listening for command...\n",
      "Assistant: Network error.\n",
      "\n",
      "Listening for command...\n",
      "Assistant: Network error.\n",
      "\n",
      "Listening for command...\n",
      "Assistant: Network error.\n",
      "\n",
      "Listening for command...\n",
      "Assistant: Network error.\n",
      "\n",
      "Listening for command...\n",
      "Assistant: Network error.\n",
      "\n",
      "Listening for command...\n",
      "Assistant: Network error.\n",
      "\n",
      "Listening for command...\n",
      "Assistant: Sorry, I didn't catch that.\n",
      "\n",
      "Listening for command...\n",
      "You said: light on light on\n",
      "Assistant: Light turned on.\n",
      "\n",
      "Listening for command...\n",
      "You said: light off\n",
      "Assistant: Light turned off.\n",
      "\n",
      "Listening for command...\n",
      "Assistant: Sorry, I didn't catch that.\n",
      "\n",
      "Listening for command...\n",
      "You said: exit\n",
      "Assistant: Shutting down.\n"
     ]
    }
   ],
   "source": [
    "import speech_recognition as sr\n",
    "import pyttsx3\n",
    "import time\n",
    "\n",
    "# Simulated appliance state\n",
    "appliance_state = {\n",
    "    \"light\": False,\n",
    "    \"fan\": False\n",
    "}\n",
    "\n",
    "# Initialize text-to-speech engine\n",
    "engine = pyttsx3.init()\n",
    "\n",
    "def speak(text):\n",
    "    print(\"Assistant:\", text)\n",
    "    engine.say(text)\n",
    "    engine.runAndWait()\n",
    "\n",
    "def listen():\n",
    "    recognizer = sr.Recognizer()\n",
    "    with sr.Microphone() as source:\n",
    "        print(\"\\nListening for command...\")\n",
    "        recognizer.adjust_for_ambient_noise(source)\n",
    "        audio = recognizer.listen(source)\n",
    "    try:\n",
    "        command = recognizer.recognize_google(audio)\n",
    "        print(\"You said:\", command)\n",
    "        return command.lower()\n",
    "    except sr.UnknownValueError:\n",
    "        speak(\"Sorry, I didn't catch that.\")\n",
    "        return \"\"\n",
    "    except sr.RequestError:\n",
    "        speak(\"Network error.\")\n",
    "        return \"\"\n",
    "\n",
    "def process_command(command):\n",
    "    global appliance_state\n",
    "\n",
    "    if \"light on\" in command:\n",
    "        appliance_state[\"light\"] = True\n",
    "        speak(\"Light turned on.\")\n",
    "    elif \"light off\" in command:\n",
    "        appliance_state[\"light\"] = False\n",
    "        speak(\"Light turned off.\")\n",
    "    elif \"fan on\" in command:\n",
    "        appliance_state[\"fan\"] = True\n",
    "        speak(\"Fan turned on.\")\n",
    "    elif \"fan off\" in command:\n",
    "        appliance_state[\"fan\"] = False\n",
    "        speak(\"Fan turned off.\")\n",
    "    elif \"status\" in command:\n",
    "        light = \"on\" if appliance_state[\"light\"] else \"off\"\n",
    "        fan = \"on\" if appliance_state[\"fan\"] else \"off\"\n",
    "        speak(f\"The light is {light}, and the fan is {fan}.\")\n",
    "    elif \"exit\" in command or \"stop\" in command:\n",
    "        speak(\"Shutting down.\")\n",
    "        return False\n",
    "    else:\n",
    "        speak(\"Sorry, I did not understand the command.\")\n",
    "    return True\n",
    "\n",
    "def main():\n",
    "    speak(\"Voice control simulation started.\")\n",
    "    running = True\n",
    "    while running:\n",
    "        command = listen()\n",
    "        if command:\n",
    "            running = process_command(command)\n",
    "\n",
    "if __name__ == \"__main__\":\n",
    "    main()\n"
   ]
  },
  {
   "cell_type": "code",
   "execution_count": null,
   "id": "8dd878ff-7faa-4cf8-ad0e-9277ce7bdc84",
   "metadata": {},
   "outputs": [],
   "source": []
  }
 ],
 "metadata": {
  "kernelspec": {
   "display_name": "Python 3 (ipykernel)",
   "language": "python",
   "name": "python3"
  },
  "language_info": {
   "codemirror_mode": {
    "name": "ipython",
    "version": 3
   },
   "file_extension": ".py",
   "mimetype": "text/x-python",
   "name": "python",
   "nbconvert_exporter": "python",
   "pygments_lexer": "ipython3",
   "version": "3.10.10"
  }
 },
 "nbformat": 4,
 "nbformat_minor": 5
}
