{
 "cells": [
  {
   "cell_type": "code",
   "execution_count": null,
   "id": "4639b283-2334-4799-b7c0-50647f87d3d2",
   "metadata": {},
   "outputs": [
    {
     "name": "stdout",
     "output_type": "stream",
     "text": [
      "Assistant: Welcome to your smart home assistant.\n",
      "Assistant: Listening for your command...\n",
      "You said: turn on\n",
      "Assistant: Command not recognized.\n",
      "Assistant: Listening for your command...\n",
      "You said: turn on light\n",
      "Assistant: Command not recognized.\n",
      "Assistant: Listening for your command...\n",
      "You said: on fan\n",
      "Assistant: Command not recognized.\n",
      "Assistant: Listening for your command...\n",
      "You said: on pan\n",
      "Assistant: Command not recognized.\n",
      "Assistant: Listening for your command...\n",
      "You said: turn off light\n",
      "Assistant: Command not recognized.\n",
      "Assistant: Listening for your command...\n",
      "You said: turn off the light\n",
      "Assistant: Turning off the light.\n",
      "Assistant: Listening for your command...\n"
     ]
    }
   ],
   "source": [
    "import speech_recognition as sr\n",
    "import pyttsx3\n",
    "\n",
    "# Text-to-speech engine\n",
    "engine = pyttsx3.init()\n",
    "\n",
    "def speak(text):\n",
    "    print(\"Assistant:\", text)\n",
    "    engine.say(text)\n",
    "    engine.runAndWait()\n",
    "\n",
    "# Recognize voice input\n",
    "def listen():\n",
    "    recognizer = sr.Recognizer()\n",
    "    with sr.Microphone() as source:\n",
    "        speak(\"Listening for your command...\")\n",
    "        audio = recognizer.listen(source)\n",
    "        try:\n",
    "            command = recognizer.recognize_google(audio).lower()\n",
    "            print(\"You said:\", command)\n",
    "            return command\n",
    "        except sr.UnknownValueError:\n",
    "            speak(\"Sorry, I didn't understand that.\")\n",
    "        except sr.RequestError:\n",
    "            speak(\"Network error.\")\n",
    "    return \"\"\n",
    "\n",
    "# Simulate device control\n",
    "def control_device(command):\n",
    "    if \"turn on the light\" in command:\n",
    "        speak(\"Turning on the light.\")\n",
    "        # Code to turn on light (GPIO/MQTT/HTTP etc.)\n",
    "    elif \"turn off the light\" in command:\n",
    "        speak(\"Turning off the light.\")\n",
    "    elif \"turn on the fan\" in command:\n",
    "        speak(\"Turning on the fan.\")\n",
    "    elif \"turn off the fan\" in command:\n",
    "        speak(\"Turning off the fan.\")\n",
    "    else:\n",
    "        speak(\"Command not recognized.\")\n",
    "\n",
    "# Main loop\n",
    "def main():\n",
    "    speak(\"Welcome to your smart home assistant.\")\n",
    "    while True:\n",
    "        command = listen()\n",
    "        if command:\n",
    "            if \"exit\" in command or \"stop\" in command:\n",
    "                speak(\"Shutting down. Goodbye!\")\n",
    "                break\n",
    "            control_device(command)\n",
    "\n",
    "if __name__ == \"__main__\":\n",
    "    main()\n"
   ]
  },
  {
   "cell_type": "code",
   "execution_count": null,
   "id": "49dca1a2-19ce-4724-9962-9a853f027b52",
   "metadata": {},
   "outputs": [],
   "source": []
  }
 ],
 "metadata": {
  "kernelspec": {
   "display_name": "Python 3 (ipykernel)",
   "language": "python",
   "name": "python3"
  },
  "language_info": {
   "codemirror_mode": {
    "name": "ipython",
    "version": 3
   },
   "file_extension": ".py",
   "mimetype": "text/x-python",
   "name": "python",
   "nbconvert_exporter": "python",
   "pygments_lexer": "ipython3",
   "version": "3.10.10"
  }
 },
 "nbformat": 4,
 "nbformat_minor": 5
}
